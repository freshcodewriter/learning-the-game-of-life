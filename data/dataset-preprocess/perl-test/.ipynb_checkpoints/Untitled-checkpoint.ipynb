{
 "cells": [
  {
   "cell_type": "code",
   "execution_count": 5,
   "metadata": {},
   "outputs": [
    {
     "name": "stdout",
     "output_type": "stream",
     "text": [
      "Original tree looks like this:\n",
      "\n",
      "            /-H\n",
      "         /-|\n",
      "        |   \\-K\n",
      "   /- /-|\n",
      "  |     |   /-F\n",
      "  |      \\-|\n",
      "  |         \\-I\n",
      "--|\n",
      "  |      /-L\n",
      "  |   /-|\n",
      "  |  |  |   /-N\n",
      "  |  |   \\-|\n",
      "   \\-|      \\-Q\n",
      "     |\n",
      "     |   /-P\n",
      "      \\-|\n",
      "         \\-S\n"
     ]
    }
   ],
   "source": [
    "from ete3 import Tree\n",
    "t = Tree('((((H,K),(F,I)G)E),((L,(N,Q)O),(P,S)));', format=8)\n",
    "# t = Tree('(A,B,(C,D)E)F;', format=8)\n",
    "\n",
    "print (\"Original tree looks like this:\")\n",
    "print (t)"
   ]
  },
  {
   "cell_type": "code",
   "execution_count": 6,
   "metadata": {},
   "outputs": [
    {
     "name": "stdout",
     "output_type": "stream",
     "text": [
      "Pruned tree\n",
      "\n",
      "         /-H\n",
      "   /- /-|\n",
      "  |      \\-F\n",
      "--|\n",
      "  |   /-Q\n",
      "   \\-|\n",
      "      \\-P\n"
     ]
    }
   ],
   "source": [
    "t.prune([\"H\",\"F\",\"E\",\"Q\", \"P\"])\n",
    "print (\"Pruned tree\")\n",
    "print (t)"
   ]
  },
  {
   "cell_type": "code",
   "execution_count": 7,
   "metadata": {},
   "outputs": [
    {
     "ename": "NewickError",
     "evalue": "Unexisting tree file or Malformed newick tree structure.\nYou may want to check other newick loading flags like 'format' or 'quoted_node_names'.",
     "output_type": "error",
     "traceback": [
      "\u001b[0;31m---------------------------------------------------------------------------\u001b[0m",
      "\u001b[0;31mNewickError\u001b[0m                               Traceback (most recent call last)",
      "\u001b[0;32m<ipython-input-7-8d614997d64b>\u001b[0m in \u001b[0;36m<module>\u001b[0;34m\u001b[0m\n\u001b[1;32m      1\u001b[0m \u001b[0;32mfrom\u001b[0m \u001b[0mete3\u001b[0m \u001b[0;32mimport\u001b[0m \u001b[0mTree\u001b[0m\u001b[0;34m\u001b[0m\u001b[0m\n\u001b[0;32m----> 2\u001b[0;31m \u001b[0mt\u001b[0m \u001b[0;34m=\u001b[0m \u001b[0mTree\u001b[0m\u001b[0;34m(\u001b[0m\u001b[0;34m'16div_200_targets_30_states_REF.nw'\u001b[0m\u001b[0;34m,\u001b[0m \u001b[0mformat\u001b[0m\u001b[0;34m=\u001b[0m\u001b[0;36m9\u001b[0m\u001b[0;34m)\u001b[0m\u001b[0;34m\u001b[0m\u001b[0m\n\u001b[0m\u001b[1;32m      3\u001b[0m \u001b[0;31m# t = Tree('(A,B,(C,D)E)F;', format=8)\u001b[0m\u001b[0;34m\u001b[0m\u001b[0;34m\u001b[0m\u001b[0m\n\u001b[1;32m      4\u001b[0m \u001b[0;34m\u001b[0m\u001b[0m\n\u001b[1;32m      5\u001b[0m \u001b[0mprint\u001b[0m \u001b[0;34m(\u001b[0m\u001b[0;34m\"Original tree looks like this:\"\u001b[0m\u001b[0;34m)\u001b[0m\u001b[0;34m\u001b[0m\u001b[0m\n",
      "\u001b[0;32m~/anaconda3/envs/ete/lib/python3.5/site-packages/ete3/coretype/tree.py\u001b[0m in \u001b[0;36m__init__\u001b[0;34m(self, newick, format, dist, support, name, quoted_node_names)\u001b[0m\n\u001b[1;32m    209\u001b[0m             \u001b[0mself\u001b[0m\u001b[0;34m.\u001b[0m\u001b[0m_dist\u001b[0m \u001b[0;34m=\u001b[0m \u001b[0;36m0.0\u001b[0m\u001b[0;34m\u001b[0m\u001b[0m\n\u001b[1;32m    210\u001b[0m             read_newick(newick, root_node = self, format=format,\n\u001b[0;32m--> 211\u001b[0;31m                         quoted_names=quoted_node_names)\n\u001b[0m\u001b[1;32m    212\u001b[0m \u001b[0;34m\u001b[0m\u001b[0m\n\u001b[1;32m    213\u001b[0m \u001b[0;34m\u001b[0m\u001b[0m\n",
      "\u001b[0;32m~/anaconda3/envs/ete/lib/python3.5/site-packages/ete3/parser/newick.py\u001b[0m in \u001b[0;36mread_newick\u001b[0;34m(newick, root_node, format, quoted_names)\u001b[0m\n\u001b[1;32m    247\u001b[0m             \u001b[0;32mreturn\u001b[0m \u001b[0m_read_newick_from_string\u001b[0m\u001b[0;34m(\u001b[0m\u001b[0mnw\u001b[0m\u001b[0;34m,\u001b[0m \u001b[0mroot_node\u001b[0m\u001b[0;34m,\u001b[0m \u001b[0mmatcher\u001b[0m\u001b[0;34m,\u001b[0m \u001b[0mformat\u001b[0m\u001b[0;34m,\u001b[0m \u001b[0mquoted_names\u001b[0m\u001b[0;34m)\u001b[0m\u001b[0;34m\u001b[0m\u001b[0m\n\u001b[1;32m    248\u001b[0m         \u001b[0;32melif\u001b[0m \u001b[0;32mnot\u001b[0m \u001b[0mnw\u001b[0m\u001b[0;34m.\u001b[0m\u001b[0mstartswith\u001b[0m\u001b[0;34m(\u001b[0m\u001b[0;34m'('\u001b[0m\u001b[0;34m)\u001b[0m \u001b[0;32mor\u001b[0m \u001b[0;32mnot\u001b[0m \u001b[0mnw\u001b[0m\u001b[0;34m.\u001b[0m\u001b[0mendswith\u001b[0m\u001b[0;34m(\u001b[0m\u001b[0;34m';'\u001b[0m\u001b[0;34m)\u001b[0m\u001b[0;34m:\u001b[0m\u001b[0;34m\u001b[0m\u001b[0m\n\u001b[0;32m--> 249\u001b[0;31m             \u001b[0;32mraise\u001b[0m \u001b[0mNewickError\u001b[0m\u001b[0;34m(\u001b[0m\u001b[0;34m'Unexisting tree file or Malformed newick tree structure.'\u001b[0m\u001b[0;34m)\u001b[0m\u001b[0;34m\u001b[0m\u001b[0m\n\u001b[0m\u001b[1;32m    250\u001b[0m         \u001b[0;32melse\u001b[0m\u001b[0;34m:\u001b[0m\u001b[0;34m\u001b[0m\u001b[0m\n\u001b[1;32m    251\u001b[0m             \u001b[0;32mreturn\u001b[0m \u001b[0m_read_newick_from_string\u001b[0m\u001b[0;34m(\u001b[0m\u001b[0mnw\u001b[0m\u001b[0;34m,\u001b[0m \u001b[0mroot_node\u001b[0m\u001b[0;34m,\u001b[0m \u001b[0mmatcher\u001b[0m\u001b[0;34m,\u001b[0m \u001b[0mformat\u001b[0m\u001b[0;34m,\u001b[0m \u001b[0mquoted_names\u001b[0m\u001b[0;34m)\u001b[0m\u001b[0;34m\u001b[0m\u001b[0m\n",
      "\u001b[0;31mNewickError\u001b[0m: Unexisting tree file or Malformed newick tree structure.\nYou may want to check other newick loading flags like 'format' or 'quoted_node_names'."
     ]
    }
   ],
   "source": [
    "from ete3 import Tree\n",
    "t = Tree('16div_200_targets_30_states_REF_with_n.nw', format=9)\n",
    "# t = Tree('(A,B,(C,D)E)F;', format=8)\n",
    "\n",
    "print (\"Original tree looks like this:\")\n",
    "print (t)"
   ]
  }
 ],
 "metadata": {
  "kernelspec": {
   "display_name": "Python 3",
   "language": "python",
   "name": "python3"
  },
  "language_info": {
   "codemirror_mode": {
    "name": "ipython",
    "version": 3
   },
   "file_extension": ".py",
   "mimetype": "text/x-python",
   "name": "python",
   "nbconvert_exporter": "python",
   "pygments_lexer": "ipython3",
   "version": "3.5.5"
  }
 },
 "nbformat": 4,
 "nbformat_minor": 4
}
