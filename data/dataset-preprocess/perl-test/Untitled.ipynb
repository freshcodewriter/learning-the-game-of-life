{
 "cells": [
  {
   "cell_type": "code",
   "execution_count": 1,
   "metadata": {
    "pycharm": {
     "is_executing": false
    }
   },
   "outputs": [
    {
     "name": "stdout",
     "text": [
      "Original tree looks like this:\n",
      "\n",
      "            /-H\n",
      "         /-|\n",
      "        |   \\-K\n",
      "   /- /-|\n",
      "  |     |   /-F\n",
      "  |      \\-|\n",
      "  |         \\-I\n",
      "--|\n",
      "  |      /-L\n",
      "  |   /-|\n",
      "  |  |  |   /-N\n",
      "  |  |   \\-|\n",
      "   \\-|      \\-Q\n",
      "     |\n",
      "     |   /-P\n",
      "      \\-|\n",
      "         \\-S\n"
     ],
     "output_type": "stream"
    }
   ],
   "source": [
    "from ete3 import Tree\n",
    "t = Tree('((((H,K),(F,I)G)E),((L,(N,Q)O),(P,S)));', format=8)\n",
    "# t = Tree('(A,B,(C,D)E)F;', format=8)\n",
    "\n",
    "print (\"Original tree looks like this:\")\n",
    "print (t)"
   ]
  },
  {
   "cell_type": "code",
   "execution_count": 2,
   "metadata": {
    "pycharm": {
     "is_executing": false
    }
   },
   "outputs": [
    {
     "name": "stdout",
     "text": [
      "Pruned tree\n",
      "\n",
      "         /-H\n",
      "   /- /-|\n",
      "  |      \\-F\n",
      "--|\n",
      "  |   /-Q\n",
      "   \\-|\n",
      "      \\-P\n"
     ],
     "output_type": "stream"
    }
   ],
   "source": [
    "t.prune([\"H\",\"F\",\"E\",\"Q\", \"P\"])\n",
    "print (\"Pruned tree\")\n",
    "print (t)"
   ]
  },
  {
   "cell_type": "code",
   "execution_count": 4,
   "metadata": {
    "pycharm": {
     "is_executing": false
    }
   },
   "outputs": [
    {
     "name": "stdout",
     "text": [
      "Original tree looks like this:\n",
      "\n",
      "            /-H\n",
      "         /-|\n",
      "        |   \\-K\n",
      "   /- /-|\n",
      "  |     |   /-F\n",
      "  |      \\-|\n",
      "  |         \\-I\n",
      "--|\n",
      "  |      /-L\n",
      "  |   /-|\n",
      "  |  |  |   /-N\n",
      "  |  |   \\-|\n",
      "   \\-|      \\-Q\n",
      "     |\n",
      "     |   /-P\n",
      "      \\-|\n",
      "         \\-S\n"
     ],
     "output_type": "stream"
    }
   ],
   "source": [
    "from ete3 import Tree\n",
    "# t = Tree('16div_200_targets_30_states_REF.txt', format=9)\n",
    "t = Tree(newick='test-tree.txt', format=8)\n",
    "\n",
    "# t = Tree('(A,B,(C,D)E)F;', format=8)\n",
    "\n",
    "print (\"Original tree looks like this:\")\n",
    "print (t)"
   ]
  }
 ],
 "metadata": {
  "kernelspec": {
   "display_name": "Python 3",
   "language": "python",
   "name": "python3"
  },
  "language_info": {
   "codemirror_mode": {
    "name": "ipython",
    "version": 3
   },
   "file_extension": ".py",
   "mimetype": "text/x-python",
   "name": "python",
   "nbconvert_exporter": "python",
   "pygments_lexer": "ipython3",
   "version": "3.5.5"
  }
 },
 "nbformat": 4,
 "nbformat_minor": 4
}