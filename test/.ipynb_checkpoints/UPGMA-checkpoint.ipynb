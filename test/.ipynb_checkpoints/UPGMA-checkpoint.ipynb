{
 "cells": [
  {
   "cell_type": "code",
   "execution_count": 1,
   "metadata": {},
   "outputs": [],
   "source": [
    "import numpy as np\n",
    "import glob"
   ]
  },
  {
   "cell_type": "code",
   "execution_count": 63,
   "metadata": {},
   "outputs": [
    {
     "data": {
      "text/html": [
       "<div>\n",
       "<style scoped>\n",
       "    .dataframe tbody tr th:only-of-type {\n",
       "        vertical-align: middle;\n",
       "    }\n",
       "\n",
       "    .dataframe tbody tr th {\n",
       "        vertical-align: top;\n",
       "    }\n",
       "\n",
       "    .dataframe thead th {\n",
       "        text-align: right;\n",
       "    }\n",
       "</style>\n",
       "<table border=\"1\" class=\"dataframe\">\n",
       "  <thead>\n",
       "    <tr style=\"text-align: right;\">\n",
       "      <th></th>\n",
       "      <th>letter</th>\n",
       "      <th>freq</th>\n",
       "    </tr>\n",
       "  </thead>\n",
       "  <tbody>\n",
       "    <tr>\n",
       "      <th>0</th>\n",
       "      <td>-</td>\n",
       "      <td>0.436172</td>\n",
       "    </tr>\n",
       "    <tr>\n",
       "      <th>1</th>\n",
       "      <td>0</td>\n",
       "      <td>0.458281</td>\n",
       "    </tr>\n",
       "    <tr>\n",
       "      <th>2</th>\n",
       "      <td>A</td>\n",
       "      <td>0.004570</td>\n",
       "    </tr>\n",
       "    <tr>\n",
       "      <th>3</th>\n",
       "      <td>B</td>\n",
       "      <td>0.028281</td>\n",
       "    </tr>\n",
       "    <tr>\n",
       "      <th>4</th>\n",
       "      <td>C</td>\n",
       "      <td>0.010898</td>\n",
       "    </tr>\n",
       "    <tr>\n",
       "      <th>5</th>\n",
       "      <td>D</td>\n",
       "      <td>0.044375</td>\n",
       "    </tr>\n",
       "    <tr>\n",
       "      <th>6</th>\n",
       "      <td>E</td>\n",
       "      <td>0.008008</td>\n",
       "    </tr>\n",
       "    <tr>\n",
       "      <th>7</th>\n",
       "      <td>F</td>\n",
       "      <td>0.005898</td>\n",
       "    </tr>\n",
       "    <tr>\n",
       "      <th>8</th>\n",
       "      <td>G</td>\n",
       "      <td>0.001719</td>\n",
       "    </tr>\n",
       "    <tr>\n",
       "      <th>9</th>\n",
       "      <td>I</td>\n",
       "      <td>0.000703</td>\n",
       "    </tr>\n",
       "    <tr>\n",
       "      <th>10</th>\n",
       "      <td>K</td>\n",
       "      <td>0.000234</td>\n",
       "    </tr>\n",
       "    <tr>\n",
       "      <th>11</th>\n",
       "      <td>L</td>\n",
       "      <td>0.000078</td>\n",
       "    </tr>\n",
       "    <tr>\n",
       "      <th>12</th>\n",
       "      <td>M</td>\n",
       "      <td>0.000625</td>\n",
       "    </tr>\n",
       "    <tr>\n",
       "      <th>13</th>\n",
       "      <td>O</td>\n",
       "      <td>0.000117</td>\n",
       "    </tr>\n",
       "    <tr>\n",
       "      <th>14</th>\n",
       "      <td>P</td>\n",
       "      <td>0.000039</td>\n",
       "    </tr>\n",
       "  </tbody>\n",
       "</table>\n",
       "</div>"
      ],
      "text/plain": [
       "   letter      freq\n",
       "0       -  0.436172\n",
       "1       0  0.458281\n",
       "2       A  0.004570\n",
       "3       B  0.028281\n",
       "4       C  0.010898\n",
       "5       D  0.044375\n",
       "6       E  0.008008\n",
       "7       F  0.005898\n",
       "8       G  0.001719\n",
       "9       I  0.000703\n",
       "10      K  0.000234\n",
       "11      L  0.000078\n",
       "12      M  0.000625\n",
       "13      O  0.000117\n",
       "14      P  0.000039"
      ]
     },
     "execution_count": 63,
     "metadata": {},
     "output_type": "execute_result"
    }
   ],
   "source": [
    "import glob\n",
    "freq_files = glob.glob(\"../data/dataset-3/simulations/*.txt\")\n",
    "freq_cnt = pd.read_csv('../data/dataset-3/simulations/07div_200_targets_30_states_0001rep_FAST_0072seed_freqs.txt', delimiter=',', names=[\"letter\", 'freq'])\n",
    "cnt = 1\n",
    "\n",
    "for the_file in freq_files:\n",
    "    freq_df = pd.read_csv(the_file, delimiter=',', names=[\"letter\", 'freq'])\n",
    "    freq_cnt[0:11, 'freq'] = freq_cnt[0:11, 'freq'] + freq_df[0:11, 'freq']\n",
    "    cnt += 1\n",
    "    break\n",
    "freq_df"
   ]
  },
  {
   "cell_type": "code",
   "execution_count": 5,
   "metadata": {},
   "outputs": [
    {
     "name": "stdout",
     "output_type": "stream",
     "text": [
      "/home/derek/studyAboard/2019fall/ESE546/project/learning-the-game-of-life/test\n"
     ]
    }
   ],
   "source": [
    "import os \n",
    "cwd = os.getcwd()\n",
    "print(cwd)"
   ]
  },
  {
   "cell_type": "code",
   "execution_count": 35,
   "metadata": {},
   "outputs": [
    {
     "name": "stdout",
     "output_type": "stream",
     "text": [
      "file count 3000\n",
      "no. of total cell examples:384000\n"
     ]
    }
   ],
   "source": [
    "import glob\n",
    "txt_files = glob.glob(\"../data/dataset-3/simulations/*.fas\")\n",
    "# print(txt_files)\n",
    "len(txt_files)\n",
    "\n",
    "char_lookup = {\n",
    "    '0' : 0,\n",
    "    '-' : 1,\n",
    "    'A' : 2,\n",
    "    'B' : 3,\n",
    "    'C' : 4,\n",
    "    'D' : 5,\n",
    "    'E' : 6,\n",
    "    'F' : 7,\n",
    "    'G' : 8,\n",
    "    'H' : 9,\n",
    "    'I' : 10,\n",
    "    'J' : 11,\n",
    "    'K' : 12,\n",
    "    'L' : 13,\n",
    "    'M' : 14,\n",
    "    'N' : 15,\n",
    "    'O' : 16,\n",
    "    'P' : 17,\n",
    "    'Q' : 18,\n",
    "    'R' : 19,\n",
    "    'S' : 20,\n",
    "    'T' : 21,\n",
    "    'U' : 22,\n",
    "    'V' : 23,\n",
    "    'W' : 24,\n",
    "    'X' : 25,\n",
    "    'Y' : 26,\n",
    "    'Z' : 27,\n",
    "    'a' : 28,\n",
    "    'b' : 29,\n",
    "    'c' : 30,\n",
    "    'd' : 31\n",
    "}\n",
    "\n",
    "print('file count ' + str(len(txt_files)))\n",
    "\n",
    "# lines is a list of our parsed data that we later turn into a tensor\n",
    "lines = []\n",
    "\n",
    "# count of examples parsed\n",
    "cnt = 0\n",
    "\n",
    "# currently only taking cells from 15 trees\n",
    "for filepath in txt_files:\n",
    "  with open(filepath) as fp:\n",
    "    line = fp.readline()\n",
    "    tree = []\n",
    "    while line:\n",
    "      # print(\"Line {}: {}\".format(cnt, line.strip()))\n",
    "      cell_state = line.split()\n",
    "      encoded = []\n",
    "      if (len(cell_state) > 1):\n",
    "        for c in cell_state[-1]:\n",
    "          if c in char_lookup:\n",
    "            encoded.append(char_lookup[c] / 31)   \n",
    "          else:\n",
    "            encoded.append(.5)    \n",
    "        tree.append(encoded)\n",
    "        cnt += 1\n",
    "      line = fp.readline()\n",
    "    lines.append(tree)\n",
    "print('no. of total cell examples:' + str(cnt))"
   ]
  },
  {
   "cell_type": "code",
   "execution_count": 37,
   "metadata": {},
   "outputs": [
    {
     "data": {
      "text/plain": [
       "(3000, 128, 200)"
      ]
     },
     "execution_count": 37,
     "metadata": {},
     "output_type": "execute_result"
    }
   ],
   "source": [
    "DATA = np.asarray(lines)\n",
    "DATA.shape"
   ]
  },
  {
   "cell_type": "code",
   "execution_count": 47,
   "metadata": {},
   "outputs": [
    {
     "data": {
      "text/plain": [
       "(300, 128, 200)"
      ]
     },
     "execution_count": 47,
     "metadata": {},
     "output_type": "execute_result"
    }
   ],
   "source": [
    "import pandas as pd\n",
    "test_file_idx = pd.read_csv('../calculated_pairwise_matrices3/matrix_labels.csv', )\n",
    "test_file_idx = test_file_idx['0']\n",
    "type(test_file_idx)\n",
    "# test_file_idx\n",
    "DATA[test_file_idx].shape\n"
   ]
  },
  {
   "cell_type": "code",
   "execution_count": 48,
   "metadata": {},
   "outputs": [],
   "source": [
    "for i in range(300):\n",
    "    np.savetxt(\"./test-embedding-3/\"+ str(i) +\".vec\", DATA[i], delimiter=\",\")\n",
    "# np.savetxt(\"../data/dataset-3/simulations/07div_200_targets_30_states_0378rep_FAST_0077seed.vec\", DATA, delimiter=\",\")"
   ]
  },
  {
   "cell_type": "code",
   "execution_count": 20,
   "metadata": {},
   "outputs": [],
   "source": [
    "np.savetxt(\"../data/dataset-3/simulations/07div_200_targets_30_states_0378rep_FAST_0077seed.vec\", DATA, delimiter=\",\")"
   ]
  },
  {
   "cell_type": "code",
   "execution_count": 16,
   "metadata": {},
   "outputs": [
    {
     "data": {
      "text/plain": [
       "'../data/dataset-3/simulations/07div_200_targets_30_states_0378rep_FAST_0077seed.fas'"
      ]
     },
     "execution_count": 16,
     "metadata": {},
     "output_type": "execute_result"
    }
   ],
   "source": [
    "filepath"
   ]
  },
  {
   "cell_type": "code",
   "execution_count": 18,
   "metadata": {},
   "outputs": [],
   "source": [
    "from sklearn.metrics.pairwise import euclidean_distances\n",
    "dm = euclidean_distances(DATA, DATA)\n",
    "np.savetxt(\"../data/dataset-3/simulations/07div_200_targets_30_states_0378rep_FAST_0077seed.dm\", dm, delimiter=\",\")"
   ]
  },
  {
   "cell_type": "code",
   "execution_count": 15,
   "metadata": {},
   "outputs": [
    {
     "ename": "NameError",
     "evalue": "name 'DistanceMatrix' is not defined",
     "output_type": "error",
     "traceback": [
      "\u001b[0;31m---------------------------------------------------------------------------\u001b[0m",
      "\u001b[0;31mNameError\u001b[0m                                 Traceback (most recent call last)",
      "\u001b[0;32m<ipython-input-15-e9e2a7b1201f>\u001b[0m in \u001b[0;36m<module>\u001b[0;34m\u001b[0m\n\u001b[1;32m      1\u001b[0m \u001b[0;32mfrom\u001b[0m \u001b[0mBio\u001b[0m\u001b[0;34m.\u001b[0m\u001b[0mPhylo\u001b[0m\u001b[0;34m.\u001b[0m\u001b[0mTreeConstruction\u001b[0m \u001b[0;32mimport\u001b[0m \u001b[0mDistanceCalculator\u001b[0m\u001b[0;34m,\u001b[0m \u001b[0mDistanceTreeConstructor\u001b[0m\u001b[0;34m\u001b[0m\u001b[0;34m\u001b[0m\u001b[0m\n\u001b[1;32m      2\u001b[0m \u001b[0mconstructor\u001b[0m \u001b[0;34m=\u001b[0m \u001b[0mDistanceTreeConstructor\u001b[0m\u001b[0;34m(\u001b[0m\u001b[0;34m)\u001b[0m\u001b[0;34m\u001b[0m\u001b[0;34m\u001b[0m\u001b[0m\n\u001b[0;32m----> 3\u001b[0;31m \u001b[0mdm_1\u001b[0m \u001b[0;34m=\u001b[0m \u001b[0mDistanceMatrix\u001b[0m\u001b[0;34m(\u001b[0m\u001b[0mnames\u001b[0m\u001b[0;34m=\u001b[0m\u001b[0;34m[\u001b[0m\u001b[0mi\u001b[0m \u001b[0;32mfor\u001b[0m \u001b[0mi\u001b[0m \u001b[0;32min\u001b[0m \u001b[0mrange\u001b[0m\u001b[0;34m(\u001b[0m\u001b[0;36m128\u001b[0m\u001b[0;34m)\u001b[0m\u001b[0;34m]\u001b[0m\u001b[0;34m,\u001b[0m \u001b[0mmatrix\u001b[0m\u001b[0;34m=\u001b[0m\u001b[0mdm\u001b[0m\u001b[0;34m)\u001b[0m\u001b[0;34m\u001b[0m\u001b[0;34m\u001b[0m\u001b[0m\n\u001b[0m\u001b[1;32m      4\u001b[0m \u001b[0mtree\u001b[0m \u001b[0;34m=\u001b[0m \u001b[0mconstructor\u001b[0m\u001b[0;34m.\u001b[0m\u001b[0mupgma\u001b[0m\u001b[0;34m(\u001b[0m\u001b[0mdm_1\u001b[0m\u001b[0;34m)\u001b[0m\u001b[0;34m\u001b[0m\u001b[0;34m\u001b[0m\u001b[0m\n",
      "\u001b[0;31mNameError\u001b[0m: name 'DistanceMatrix' is not defined"
     ]
    }
   ],
   "source": [
    "from Bio.Phylo.TreeConstruction import DistanceCalculator, DistanceTreeConstructor\n",
    "constructor = DistanceTreeConstructor()\n",
    "dm_1 = DistanceMatrix(names=[i for i in range(128)], matrix=dm)\n",
    "tree = constructor.upgma(dm_1)"
   ]
  }
 ],
 "metadata": {
  "kernelspec": {
   "display_name": "Python 3",
   "language": "python",
   "name": "python3"
  },
  "language_info": {
   "codemirror_mode": {
    "name": "ipython",
    "version": 3
   },
   "file_extension": ".py",
   "mimetype": "text/x-python",
   "name": "python",
   "nbconvert_exporter": "python",
   "pygments_lexer": "ipython3",
   "version": "3.7.3"
  }
 },
 "nbformat": 4,
 "nbformat_minor": 4
}
