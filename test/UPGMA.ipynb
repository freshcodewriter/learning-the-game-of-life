{
 "cells": [
  {
   "cell_type": "code",
   "execution_count": 1,
   "metadata": {},
   "outputs": [],
   "source": [
    "import numpy as np\n",
    "import glob"
   ]
  },
  {
   "cell_type": "code",
   "execution_count": 67,
   "metadata": {},
   "outputs": [
    {
     "data": {
      "text/plain": [
       "0     0.378750\n",
       "1     0.495391\n",
       "2     0.069180\n",
       "3     0.001094\n",
       "4     0.016211\n",
       "5     0.033203\n",
       "6     0.002500\n",
       "7     0.000977\n",
       "8     0.001680\n",
       "9     0.000156\n",
       "10    0.000078\n",
       "Name: freq, dtype: float64"
      ]
     },
     "execution_count": 67,
     "metadata": {},
     "output_type": "execute_result"
    }
   ],
   "source": [
    "freq_cnt.iloc[0:11, 1]"
   ]
  },
  {
   "cell_type": "code",
   "execution_count": 74,
   "metadata": {},
   "outputs": [
    {
     "data": {
      "text/plain": [
       "0     1057.987578\n",
       "1     1607.585000\n",
       "2       98.988750\n",
       "3       69.151328\n",
       "4       44.619141\n",
       "5       51.422031\n",
       "6       20.997305\n",
       "7       12.623359\n",
       "8        9.615195\n",
       "9             NaN\n",
       "10            NaN\n",
       "Name: freq, dtype: float64"
      ]
     },
     "execution_count": 74,
     "metadata": {},
     "output_type": "execute_result"
    }
   ],
   "source": [
    "import glob\n",
    "freq_files = glob.glob(\"../data/dataset-3/simulations/*.txt\")\n",
    "freq_cnt = pd.read_csv('../data/dataset-3/simulations/07div_200_targets_30_states_0001rep_FAST_0072seed_freqs.txt', delimiter=',', names=[\"letter\", 'freq'])\n",
    "cnt = 1\n",
    "freq_cnt = freq_cnt.iloc[0:11, 1]\n",
    "for the_file in freq_files:\n",
    "    freq_df = pd.read_csv(the_file, delimiter=',', names=[\"letter\", 'freq'])\n",
    "    freq_cnt = freq_cnt + freq_df.iloc[0:11, 1]\n",
    "    cnt += 1\n",
    "#     break\n",
    "freq_cnt"
   ]
  },
  {
   "cell_type": "code",
   "execution_count": 75,
   "metadata": {},
   "outputs": [
    {
     "data": {
      "text/plain": [
       "0     0.352545\n",
       "1     0.535683\n",
       "2     0.032985\n",
       "3     0.023043\n",
       "4     0.014868\n",
       "5     0.017135\n",
       "6     0.006997\n",
       "7     0.004206\n",
       "8     0.003204\n",
       "9          NaN\n",
       "10         NaN\n",
       "Name: freq, dtype: float64"
      ]
     },
     "execution_count": 75,
     "metadata": {},
     "output_type": "execute_result"
    }
   ],
   "source": [
    "freq_cnt/cnt"
   ]
  },
  {
   "cell_type": "code",
   "execution_count": 5,
   "metadata": {},
   "outputs": [
    {
     "name": "stdout",
     "output_type": "stream",
     "text": [
      "/home/derek/studyAboard/2019fall/ESE546/project/learning-the-game-of-life/test\n"
     ]
    }
   ],
   "source": [
    "import os \n",
    "cwd = os.getcwd()\n",
    "print(cwd)"
   ]
  },
  {
   "cell_type": "code",
   "execution_count": 35,
   "metadata": {},
   "outputs": [
    {
     "name": "stdout",
     "output_type": "stream",
     "text": [
      "file count 3000\n",
      "no. of total cell examples:384000\n"
     ]
    }
   ],
   "source": [
    "import glob\n",
    "txt_files = glob.glob(\"../data/dataset-3/simulations/*.fas\")\n",
    "# print(txt_files)\n",
    "len(txt_files)\n",
    "\n",
    "char_lookup = {\n",
    "    '0' : 0,\n",
    "    '-' : 1,\n",
    "    'A' : 2,\n",
    "    'B' : 3,\n",
    "    'C' : 4,\n",
    "    'D' : 5,\n",
    "    'E' : 6,\n",
    "    'F' : 7,\n",
    "    'G' : 8,\n",
    "    'H' : 9,\n",
    "    'I' : 10,\n",
    "    'J' : 11,\n",
    "    'K' : 12,\n",
    "    'L' : 13,\n",
    "    'M' : 14,\n",
    "    'N' : 15,\n",
    "    'O' : 16,\n",
    "    'P' : 17,\n",
    "    'Q' : 18,\n",
    "    'R' : 19,\n",
    "    'S' : 20,\n",
    "    'T' : 21,\n",
    "    'U' : 22,\n",
    "    'V' : 23,\n",
    "    'W' : 24,\n",
    "    'X' : 25,\n",
    "    'Y' : 26,\n",
    "    'Z' : 27,\n",
    "    'a' : 28,\n",
    "    'b' : 29,\n",
    "    'c' : 30,\n",
    "    'd' : 31\n",
    "}\n",
    "\n",
    "print('file count ' + str(len(txt_files)))\n",
    "\n",
    "# lines is a list of our parsed data that we later turn into a tensor\n",
    "lines = []\n",
    "\n",
    "# count of examples parsed\n",
    "cnt = 0\n",
    "\n",
    "# currently only taking cells from 15 trees\n",
    "for filepath in txt_files:\n",
    "  with open(filepath) as fp:\n",
    "    line = fp.readline()\n",
    "    tree = []\n",
    "    while line:\n",
    "      # print(\"Line {}: {}\".format(cnt, line.strip()))\n",
    "      cell_state = line.split()\n",
    "      encoded = []\n",
    "      if (len(cell_state) > 1):\n",
    "        for c in cell_state[-1]:\n",
    "          if c in char_lookup:\n",
    "            encoded.append(char_lookup[c] / 31)   \n",
    "          else:\n",
    "            encoded.append(.5)    \n",
    "        tree.append(encoded)\n",
    "        cnt += 1\n",
    "      line = fp.readline()\n",
    "    lines.append(tree)\n",
    "print('no. of total cell examples:' + str(cnt))"
   ]
  },
  {
   "cell_type": "code",
   "execution_count": 37,
   "metadata": {},
   "outputs": [
    {
     "data": {
      "text/plain": [
       "(3000, 128, 200)"
      ]
     },
     "execution_count": 37,
     "metadata": {},
     "output_type": "execute_result"
    }
   ],
   "source": [
    "DATA = np.asarray(lines)\n",
    "DATA.shape"
   ]
  },
  {
   "cell_type": "code",
   "execution_count": 47,
   "metadata": {},
   "outputs": [
    {
     "data": {
      "text/plain": [
       "(300, 128, 200)"
      ]
     },
     "execution_count": 47,
     "metadata": {},
     "output_type": "execute_result"
    }
   ],
   "source": [
    "import pandas as pd\n",
    "test_file_idx = pd.read_csv('../calculated_pairwise_matrices3/matrix_labels.csv', )\n",
    "test_file_idx = test_file_idx['0']\n",
    "type(test_file_idx)\n",
    "# test_file_idx\n",
    "DATA[test_file_idx].shape\n"
   ]
  },
  {
   "cell_type": "code",
   "execution_count": 48,
   "metadata": {},
   "outputs": [],
   "source": [
    "for i in range(300):\n",
    "    np.savetxt(\"./test-embedding-3/\"+ str(i) +\".vec\", DATA[i], delimiter=\",\")\n",
    "# np.savetxt(\"../data/dataset-3/simulations/07div_200_targets_30_states_0378rep_FAST_0077seed.vec\", DATA, delimiter=\",\")"
   ]
  },
  {
   "cell_type": "code",
   "execution_count": 20,
   "metadata": {},
   "outputs": [],
   "source": [
    "np.savetxt(\"../data/dataset-3/simulations/07div_200_targets_30_states_0378rep_FAST_0077seed.vec\", DATA, delimiter=\",\")"
   ]
  },
  {
   "cell_type": "code",
   "execution_count": 16,
   "metadata": {},
   "outputs": [
    {
     "data": {
      "text/plain": [
       "'../data/dataset-3/simulations/07div_200_targets_30_states_0378rep_FAST_0077seed.fas'"
      ]
     },
     "execution_count": 16,
     "metadata": {},
     "output_type": "execute_result"
    }
   ],
   "source": [
    "filepath"
   ]
  },
  {
   "cell_type": "code",
   "execution_count": 18,
   "metadata": {},
   "outputs": [],
   "source": [
    "from sklearn.metrics.pairwise import euclidean_distances\n",
    "dm = euclidean_distances(DATA, DATA)\n",
    "np.savetxt(\"../data/dataset-3/simulations/07div_200_targets_30_states_0378rep_FAST_0077seed.dm\", dm, delimiter=\",\")"
   ]
  },
  {
   "cell_type": "code",
   "execution_count": 15,
   "metadata": {},
   "outputs": [
    {
     "ename": "NameError",
     "evalue": "name 'DistanceMatrix' is not defined",
     "output_type": "error",
     "traceback": [
      "\u001b[0;31m---------------------------------------------------------------------------\u001b[0m",
      "\u001b[0;31mNameError\u001b[0m                                 Traceback (most recent call last)",
      "\u001b[0;32m<ipython-input-15-e9e2a7b1201f>\u001b[0m in \u001b[0;36m<module>\u001b[0;34m\u001b[0m\n\u001b[1;32m      1\u001b[0m \u001b[0;32mfrom\u001b[0m \u001b[0mBio\u001b[0m\u001b[0;34m.\u001b[0m\u001b[0mPhylo\u001b[0m\u001b[0;34m.\u001b[0m\u001b[0mTreeConstruction\u001b[0m \u001b[0;32mimport\u001b[0m \u001b[0mDistanceCalculator\u001b[0m\u001b[0;34m,\u001b[0m \u001b[0mDistanceTreeConstructor\u001b[0m\u001b[0;34m\u001b[0m\u001b[0;34m\u001b[0m\u001b[0m\n\u001b[1;32m      2\u001b[0m \u001b[0mconstructor\u001b[0m \u001b[0;34m=\u001b[0m \u001b[0mDistanceTreeConstructor\u001b[0m\u001b[0;34m(\u001b[0m\u001b[0;34m)\u001b[0m\u001b[0;34m\u001b[0m\u001b[0;34m\u001b[0m\u001b[0m\n\u001b[0;32m----> 3\u001b[0;31m \u001b[0mdm_1\u001b[0m \u001b[0;34m=\u001b[0m \u001b[0mDistanceMatrix\u001b[0m\u001b[0;34m(\u001b[0m\u001b[0mnames\u001b[0m\u001b[0;34m=\u001b[0m\u001b[0;34m[\u001b[0m\u001b[0mi\u001b[0m \u001b[0;32mfor\u001b[0m \u001b[0mi\u001b[0m \u001b[0;32min\u001b[0m \u001b[0mrange\u001b[0m\u001b[0;34m(\u001b[0m\u001b[0;36m128\u001b[0m\u001b[0;34m)\u001b[0m\u001b[0;34m]\u001b[0m\u001b[0;34m,\u001b[0m \u001b[0mmatrix\u001b[0m\u001b[0;34m=\u001b[0m\u001b[0mdm\u001b[0m\u001b[0;34m)\u001b[0m\u001b[0;34m\u001b[0m\u001b[0;34m\u001b[0m\u001b[0m\n\u001b[0m\u001b[1;32m      4\u001b[0m \u001b[0mtree\u001b[0m \u001b[0;34m=\u001b[0m \u001b[0mconstructor\u001b[0m\u001b[0;34m.\u001b[0m\u001b[0mupgma\u001b[0m\u001b[0;34m(\u001b[0m\u001b[0mdm_1\u001b[0m\u001b[0;34m)\u001b[0m\u001b[0;34m\u001b[0m\u001b[0;34m\u001b[0m\u001b[0m\n",
      "\u001b[0;31mNameError\u001b[0m: name 'DistanceMatrix' is not defined"
     ]
    }
   ],
   "source": [
    "from Bio.Phylo.TreeConstruction import DistanceCalculator, DistanceTreeConstructor\n",
    "constructor = DistanceTreeConstructor()\n",
    "dm_1 = DistanceMatrix(names=[i for i in range(128)], matrix=dm)\n",
    "tree = constructor.upgma(dm_1)"
   ]
  }
 ],
 "metadata": {
  "kernelspec": {
   "display_name": "Python 3",
   "language": "python",
   "name": "python3"
  },
  "language_info": {
   "codemirror_mode": {
    "name": "ipython",
    "version": 3
   },
   "file_extension": ".py",
   "mimetype": "text/x-python",
   "name": "python",
   "nbconvert_exporter": "python",
   "pygments_lexer": "ipython3",
   "version": "3.7.3"
  }
 },
 "nbformat": 4,
 "nbformat_minor": 4
}
